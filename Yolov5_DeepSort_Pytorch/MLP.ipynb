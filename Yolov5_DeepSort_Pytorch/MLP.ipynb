{
 "cells": [
  {
   "cell_type": "markdown",
   "metadata": {},
   "source": [
    "Nuevo enfoque...\n",
    "\n",
    "El conjunto de datos de entrenamiento utilizado no tiene la capacidad de entrenar de forma correcta el modelo, ya que los datos no estan distribuídos de manera uniforme. Es por esto que se buscará generar un conjunto de datos de prueba artificial para entrenar el modelo. \n",
    "\n",
    "El conjunto de datos de entrenamiento artificial contará con la generación de: <br>\n",
    "estados de fase (0,1,2) <br>\n",
    "cantidad de vehículos en Agustinas (0-15)<br>\n",
    "cantidad de vehículos en Morandé (0-15)<br>\n",
    "cantidad de peatones en Agustinas (0-15)<br>\n",
    "cantidad de peatones en Morandé (0-15)<br>\n",
    "tiempo de espera acumulado en Agustinas (0-2000)<br>\n",
    "tiempo de espera acumulado en Morandé (0-2000)"
   ]
  },
  {
   "cell_type": "code",
   "execution_count": 22,
   "metadata": {},
   "outputs": [],
   "source": [
    "# Importación de librerías\n",
    "import pandas as pd\n",
    "import numpy as np\n",
    "import matplotlib.pyplot as plt"
   ]
  },
  {
   "cell_type": "code",
   "execution_count": 3,
   "metadata": {},
   "outputs": [],
   "source": [
    "# Sintetización de espacio de estados\n",
    "from itertools import product\n",
    "\n",
    "fase = range(0, 3)\n",
    "cantidades_10 = range(0, 11)\n",
    "cantidades_16 = range(0, 17)\n",
    "esperas_2000 = range(0,2006,5)\n",
    "esperas_1700 = range(0,1706,5) \n",
    "combinaciones = list(product(fase, cantidades_16, esperas_2000, cantidades_10, esperas_1700))\n",
    "df_generado = pd.DataFrame(combinaciones, columns=['sem_fase', 'veh_agus','wait_agus','veh_mor','wait_mor'])"
   ]
  },
  {
   "cell_type": "code",
   "execution_count": 4,
   "metadata": {},
   "outputs": [],
   "source": [
    "# Selección de muestras\n",
    "df_sample_100k = df_generado.sample(n=100000)\n",
    "df_sample_50k = df_generado.sample(n=50000)\n",
    "df_sample_10k = df_generado.sample(n=10000)"
   ]
  },
  {
   "cell_type": "code",
   "execution_count": 6,
   "metadata": {},
   "outputs": [],
   "source": [
    "# Aplicar reglas de optimización\n",
    "\n",
    "def reglas_optimizacion(row):\n",
    "    wait_threshold = 500\n",
    "    max_veh_threshold = 2\n",
    "    if row['sem_fase'] == 1 and row['veh_agus'] <= max_veh_threshold and row['wait_mor'] > wait_threshold:\n",
    "        return 1\n",
    "    elif row['sem_fase'] == 0 and row['veh_mor'] <= max_veh_threshold and row['wait_agus'] > wait_threshold:\n",
    "        return 1\n",
    "    else:\n",
    "        return 0\n",
    "\n",
    "df_sample_100k['Y'] = df_sample_100k.apply(reglas_optimizacion, axis=1)\n",
    "\n",
    "df_sample_50k['Y'] = df_sample_50k.apply(reglas_optimizacion, axis=1)\n",
    "\n",
    "df_sample_10k['Y'] = df_sample_10k.apply(reglas_optimizacion, axis=1)"
   ]
  },
  {
   "cell_type": "code",
   "execution_count": 8,
   "metadata": {},
   "outputs": [
    {
     "name": "stdout",
     "output_type": "stream",
     "text": [
      "Casos favorables 100K: 0.11115\n",
      "Casos favorables 50K: 0.11098\n",
      "Casos favorables 10K: 0.1068\n"
     ]
    }
   ],
   "source": [
    "# Verificar % de casos favorables\n",
    "\n",
    "print(f\"Casos favorables 100K: {df_sample_100k['Y'].mean()}\")\n",
    "print(f\"Casos favorables 50K: {df_sample_50k['Y'].mean()}\")\n",
    "print(f\"Casos favorables 10K: {df_sample_10k['Y'].mean()}\")\n"
   ]
  },
  {
   "cell_type": "code",
   "execution_count": 10,
   "metadata": {},
   "outputs": [],
   "source": [
    "# Dividir conjuntos de entrenamiento y prueba\n",
    "from sklearn.model_selection import train_test_split\n",
    "\n",
    "#Splitting the dataset into training and validation sets (100k)\n",
    "training_set_100k, validation_set_100k = train_test_split(df_sample_100k, test_size = 0.25, random_state = 7)\n",
    "\n",
    "#classifying the predictors and target variables as X and Y\n",
    "X_train_100k = training_set_100k.iloc[:,0:-1].values\n",
    "X_test_100k = validation_set_100k.iloc[:,0:-1].values\n",
    "Y_train_100k = training_set_100k.iloc[:,-1].values\n",
    "Y_test_100k = validation_set_100k.iloc[:,-1].values\n",
    "\n",
    "#Splitting the dataset into training and validation sets (50k)\n",
    "training_set_50k, validation_set_50k = train_test_split(df_sample_50k, test_size = 0.25, random_state = 7)\n",
    "\n",
    "#classifying the predictors and target variables as X and Y\n",
    "X_train_50k = training_set_50k.iloc[:,0:-1].values\n",
    "X_test_50k = validation_set_50k.iloc[:,0:-1].values\n",
    "Y_train_50k = training_set_50k.iloc[:,-1].values\n",
    "Y_test_50k = validation_set_50k.iloc[:,-1].values\n",
    "\n",
    "#Splitting the dataset into training and validation sets (10k)\n",
    "training_set_10k, validation_set_10k = train_test_split(df_sample_10k, test_size = 0.25, random_state = 7)\n",
    "\n",
    "#classifying the predictors and target variables as X and Y\n",
    "X_train_10k = training_set_10k.iloc[:,0:-1].values\n",
    "X_test_10k = validation_set_10k.iloc[:,0:-1].values\n",
    "Y_train_10k = training_set_10k.iloc[:,-1].values\n",
    "Y_test_10k = validation_set_10k.iloc[:,-1].values"
   ]
  },
  {
   "cell_type": "code",
   "execution_count": 11,
   "metadata": {},
   "outputs": [],
   "source": [
    "# Entrenamiento de modelo\n",
    "\n",
    "from sklearn.neural_network import MLPClassifier"
   ]
  },
  {
   "cell_type": "code",
   "execution_count": 12,
   "metadata": {},
   "outputs": [
    {
     "data": {
      "text/plain": [
       "MLPClassifier(hidden_layer_sizes=(32,), max_iter=1000, random_state=1)"
      ]
     },
     "execution_count": 12,
     "metadata": {},
     "output_type": "execute_result"
    }
   ],
   "source": [
    "# 100k\n",
    "model_100k = MLPClassifier(hidden_layer_sizes=(32,), max_iter=1000, activation='relu', solver='adam', random_state=1)\n",
    "# Fitting the training data to the network\n",
    "model_100k.fit(X_train_100k, Y_train_100k)"
   ]
  },
  {
   "cell_type": "code",
   "execution_count": 13,
   "metadata": {},
   "outputs": [
    {
     "data": {
      "text/plain": [
       "MLPClassifier(hidden_layer_sizes=(32,), max_iter=1000, random_state=1)"
      ]
     },
     "execution_count": 13,
     "metadata": {},
     "output_type": "execute_result"
    }
   ],
   "source": [
    "# 50k\n",
    "model_50k = MLPClassifier(hidden_layer_sizes=(32,), max_iter=1000, activation='relu', solver='adam', random_state=1)\n",
    "# Fitting the training data to the network\n",
    "model_100k.fit(X_train_50k, Y_train_50k)"
   ]
  },
  {
   "cell_type": "code",
   "execution_count": 48,
   "metadata": {},
   "outputs": [
    {
     "data": {
      "text/plain": [
       "MLPClassifier(hidden_layer_sizes=(32,), max_iter=1000, random_state=1)"
      ]
     },
     "execution_count": 48,
     "metadata": {},
     "output_type": "execute_result"
    }
   ],
   "source": [
    "# 10k\n",
    "model_10k = MLPClassifier(hidden_layer_sizes=(32,), max_iter=1000, activation='relu', solver='adam', random_state=1)\n",
    "# Fitting the training data to the network\n",
    "model_100k.fit(X_train_10k, Y_train_10k)"
   ]
  },
  {
   "cell_type": "code",
   "execution_count": 29,
   "metadata": {},
   "outputs": [],
   "source": [
    "# Learning curves\n",
    "from sklearn.model_selection import learning_curve"
   ]
  },
  {
   "cell_type": "code",
   "execution_count": 30,
   "metadata": {},
   "outputs": [
    {
     "data": {
      "image/png": "[encoded data removed]",
      "text/plain": [
       "<Figure size 432x288 with 1 Axes>"
      ]
     },
     "metadata": {
      "needs_background": "light"
     },
     "output_type": "display_data"
    }
   ],
   "source": [
    "# Obtenemos los scores de entrenamiento y validación para cada tamaño de conjunto de entrenamiento\n",
    "train_sizes_100k, train_scores_100k, valid_scores_100k = learning_curve(model_100k, X_train_10k, Y_train_10k)\n",
    "\n",
    "# Calculamos las medias y desviaciones estándar de los scores de entrenamiento y validación\n",
    "train_mean = np.mean(train_scores_100k, axis=1)\n",
    "train_std = np.std(train_scores_100k, axis=1)\n",
    "valid_mean = np.mean(valid_scores_100k, axis=1)\n",
    "valid_std = np.std(valid_scores_100k, axis=1)\n",
    "\n",
    "# Graficamos la curva de entrenamiento\n",
    "plt.plot(train_sizes_100k, train_mean, label='Training score')\n",
    "plt.plot(train_sizes_100k, valid_mean, label='Cross-validation score')\n",
    "\n",
    "# Agregamos las bandas de incertidumbre\n",
    "plt.fill_between(train_sizes_100k, train_mean - train_std, train_mean + train_std, alpha=0.1)\n",
    "plt.fill_between(train_sizes_100k, valid_mean - valid_std, valid_mean + valid_std, alpha=0.1)\n",
    "\n",
    "# Agregamos etiquetas y leyenda\n",
    "plt.xlabel('Training Size')\n",
    "plt.ylabel('Score')\n",
    "plt.title('Learning Curve')\n",
    "plt.legend(loc='best')\n",
    "\n",
    "# Mostramos la gráfica\n",
    "plt.show()"
   ]
  },
  {
   "cell_type": "code",
   "execution_count": 28,
   "metadata": {},
   "outputs": [
    {
     "data": {
      "image/png": "[encoded data removed]",
      "text/plain": [
       "<Figure size 432x288 with 1 Axes>"
      ]
     },
     "metadata": {
      "needs_background": "light"
     },
     "output_type": "display_data"
    }
   ],
   "source": [
    "# Obtenemos los scores de entrenamiento y validación para cada tamaño de conjunto de entrenamiento\n",
    "train_sizes_10k, train_scores, valid_scores = learning_curve(model_10k, X_train_10k, Y_train_10k)\n",
    "\n",
    "# Calculamos las medias y desviaciones estándar de los scores de entrenamiento y validación\n",
    "train_mean = np.mean(train_scores, axis=1)\n",
    "train_std = np.std(train_scores, axis=1)\n",
    "valid_mean = np.mean(valid_scores, axis=1)\n",
    "valid_std = np.std(valid_scores, axis=1)\n",
    "\n",
    "# Graficamos la curva de entrenamiento\n",
    "plt.plot(train_sizes, train_mean, label='Training score')\n",
    "plt.plot(train_sizes, valid_mean, label='Cross-validation score')\n",
    "\n",
    "# Agregamos las bandas de incertidumbre\n",
    "plt.fill_between(train_sizes, train_mean - train_std, train_mean + train_std, alpha=0.1)\n",
    "plt.fill_between(train_sizes, valid_mean - valid_std, valid_mean + valid_std, alpha=0.1)\n",
    "\n",
    "# Agregamos etiquetas y leyenda\n",
    "plt.xlabel('Training Size')\n",
    "plt.ylabel('Score')\n",
    "plt.title('Learning Curve')\n",
    "plt.legend(loc='best')\n",
    "\n",
    "# Mostramos la gráfica\n",
    "plt.show()"
   ]
  },
  {
   "cell_type": "code",
   "execution_count": 49,
   "metadata": {},
   "outputs": [
    {
     "ename": "NotFittedError",
     "evalue": "This MLPClassifier instance is not fitted yet. Call 'fit' with appropriate arguments before using this estimator.",
     "output_type": "error",
     "traceback": [
      "\u001b[1;31m---------------------------------------------------------------------------\u001b[0m",
      "\u001b[1;31mNotFittedError\u001b[0m                            Traceback (most recent call last)",
      "\u001b[1;32md:\\Develop\\car-detection-yolo\\Yolov5_DeepSort_Pytorch\\MLP.ipynb Cell 15\u001b[0m in \u001b[0;36m<cell line: 2>\u001b[1;34m()\u001b[0m\n\u001b[0;32m      <a href='vscode-notebook-cell:/d%3A/Develop/car-detection-yolo/Yolov5_DeepSort_Pytorch/MLP.ipynb#X22sZmlsZQ%3D%3D?line=0'>1</a>\u001b[0m a \u001b[39m=\u001b[39m np\u001b[39m.\u001b[39marray([[\u001b[39m0\u001b[39m,\u001b[39m0\u001b[39m,\u001b[39m0\u001b[39m,\u001b[39m0\u001b[39m,\u001b[39m0\u001b[39m]])\n\u001b[1;32m----> <a href='vscode-notebook-cell:/d%3A/Develop/car-detection-yolo/Yolov5_DeepSort_Pytorch/MLP.ipynb#X22sZmlsZQ%3D%3D?line=1'>2</a>\u001b[0m test_pred \u001b[39m=\u001b[39m model_10k\u001b[39m.\u001b[39;49mpredict(a)\n\u001b[0;32m      <a href='vscode-notebook-cell:/d%3A/Develop/car-detection-yolo/Yolov5_DeepSort_Pytorch/MLP.ipynb#X22sZmlsZQ%3D%3D?line=2'>3</a>\u001b[0m \u001b[39mprint\u001b[39m(test_pred)\n",
      "File \u001b[1;32mc:\\Users\\javie\\anaconda3\\envs\\ML\\lib\\site-packages\\sklearn\\neural_network\\_multilayer_perceptron.py:1166\u001b[0m, in \u001b[0;36mMLPClassifier.predict\u001b[1;34m(self, X)\u001b[0m\n\u001b[0;32m   1153\u001b[0m \u001b[39mdef\u001b[39;00m \u001b[39mpredict\u001b[39m(\u001b[39mself\u001b[39m, X):\n\u001b[0;32m   1154\u001b[0m     \u001b[39m\"\"\"Predict using the multi-layer perceptron classifier.\u001b[39;00m\n\u001b[0;32m   1155\u001b[0m \n\u001b[0;32m   1156\u001b[0m \u001b[39m    Parameters\u001b[39;00m\n\u001b[1;32m   (...)\u001b[0m\n\u001b[0;32m   1164\u001b[0m \u001b[39m        The predicted classes.\u001b[39;00m\n\u001b[0;32m   1165\u001b[0m \u001b[39m    \"\"\"\u001b[39;00m\n\u001b[1;32m-> 1166\u001b[0m     check_is_fitted(\u001b[39mself\u001b[39;49m)\n\u001b[0;32m   1167\u001b[0m     y_pred \u001b[39m=\u001b[39m \u001b[39mself\u001b[39m\u001b[39m.\u001b[39m_forward_pass_fast(X)\n\u001b[0;32m   1169\u001b[0m     \u001b[39mif\u001b[39;00m \u001b[39mself\u001b[39m\u001b[39m.\u001b[39mn_outputs_ \u001b[39m==\u001b[39m \u001b[39m1\u001b[39m:\n",
      "File \u001b[1;32mc:\\Users\\javie\\anaconda3\\envs\\ML\\lib\\site-packages\\sklearn\\utils\\validation.py:1222\u001b[0m, in \u001b[0;36mcheck_is_fitted\u001b[1;34m(estimator, attributes, msg, all_or_any)\u001b[0m\n\u001b[0;32m   1217\u001b[0m     fitted \u001b[39m=\u001b[39m [\n\u001b[0;32m   1218\u001b[0m         v \u001b[39mfor\u001b[39;00m v \u001b[39min\u001b[39;00m \u001b[39mvars\u001b[39m(estimator) \u001b[39mif\u001b[39;00m v\u001b[39m.\u001b[39mendswith(\u001b[39m\"\u001b[39m\u001b[39m_\u001b[39m\u001b[39m\"\u001b[39m) \u001b[39mand\u001b[39;00m \u001b[39mnot\u001b[39;00m v\u001b[39m.\u001b[39mstartswith(\u001b[39m\"\u001b[39m\u001b[39m__\u001b[39m\u001b[39m\"\u001b[39m)\n\u001b[0;32m   1219\u001b[0m     ]\n\u001b[0;32m   1221\u001b[0m \u001b[39mif\u001b[39;00m \u001b[39mnot\u001b[39;00m fitted:\n\u001b[1;32m-> 1222\u001b[0m     \u001b[39mraise\u001b[39;00m NotFittedError(msg \u001b[39m%\u001b[39m {\u001b[39m\"\u001b[39m\u001b[39mname\u001b[39m\u001b[39m\"\u001b[39m: \u001b[39mtype\u001b[39m(estimator)\u001b[39m.\u001b[39m\u001b[39m__name__\u001b[39m})\n",
      "\u001b[1;31mNotFittedError\u001b[0m: This MLPClassifier instance is not fitted yet. Call 'fit' with appropriate arguments before using this estimator."
     ]
    }
   ],
   "source": [
    "a = np.array([[0,0,0,0,0]])\n",
    "test_pred = model_10k.predict(a)\n",
    "print(test_pred)"
   ]
  }
 ],
 "metadata": {
  "kernelspec": {
   "display_name": "ML",
   "language": "python",
   "name": "python3"
  },
  "language_info": {
   "codemirror_mode": {
    "name": "ipython",
    "version": 3
   },
   "file_extension": ".py",
   "mimetype": "text/x-python",
   "name": "python",
   "nbconvert_exporter": "python",
   "pygments_lexer": "ipython3",
   "version": "3.9.12"
  },
  "orig_nbformat": 4,
  "vscode": {
   "interpreter": {
    "hash": "b1f9c8bbb9b9294d1e5540d96ca6212ef2306b67bcb71a29e31048086b19646d"
   }
  }
 },
 "nbformat": 4,
 "nbformat_minor": 2
}
